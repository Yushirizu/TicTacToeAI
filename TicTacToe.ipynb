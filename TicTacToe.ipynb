{
  "nbformat": 4,
  "nbformat_minor": 0,
  "metadata": {
    "colab": {
      "provenance": [],
      "authorship_tag": "ABX9TyMaIVcjY2MHkBcTslWwD2I7"
    },
    "kernelspec": {
      "name": "python3",
      "display_name": "Python 3"
    },
    "language_info": {
      "name": "python"
    }
  },
  "cells": [
    {
      "cell_type": "code",
      "source": [
        "import numpy as np\n",
        "import tensorflow as tf\n",
        "\n",
        "# Create the model\n",
        "model = tf.keras.Sequential()\n",
        "model.add(tf.keras.layers.Dense(10, input_shape=(9,), activation='relu'))\n",
        "model.add(tf.keras.layers.Dense(10, activation='relu'))\n",
        "model.add(tf.keras.layers.Dense(1, activation='sigmoid'))\n",
        "\n",
        "# Compile the model\n",
        "model.compile(optimizer='adam', loss='binary_crossentropy', metrics=['accuracy'])\n",
        "\n",
        "# Train the model\n",
        "X = np.array([[0, 0, 0, 0, 0, 0, 0, 0, 0], \n",
        "              [0, 0, 0, 0, 0, 0, 0, 0, 0], \n",
        "              [0, 0, 0, 0, 0, 0, 0, 0, 0], \n",
        "              [0, 0, 0, 0, 0, 0, 0, 0, 0], \n",
        "              [0, 0, 0, 0, 0, 0, 0, 0, 0], \n",
        "              [0, 0, 0, 0, 0, 0, 0, 0, 0], \n",
        "              [0, 0, 0, 0, 0, 0, 0, 0, 1], \n",
        "              [0, 0, 0, 0, 0, 0, 0, 1, 0], \n",
        "              [0, 0, 0, 0, 0, 0, 1, 0, 0]])\n",
        "y = np.array([0, 0, 0, 0, 0, 0, 0, 0, 1])\n",
        "model.fit(X, y, epochs=10)\n",
        "\n",
        "# Make a prediction\n",
        "inputs = np.array([[0, 0, 0, 0, 0, 0, 0, 0, 0], \n",
        "                   [0, 0, 0, 0, 0, 0, 0, 0, 0], \n",
        "                   [0, 0, 0, 0, 0, 0, 0, 0, 0], \n",
        "                   [0, 0, 0, 0, 0, 0, 0, 0, 0], \n",
        "                   [0, 0, 0, 0, 0, 0, 0, 0, 0], \n",
        "                   [0, 0, 0, 0, 0, 0, 0, 0, 0], \n",
        "                   [0, 0, 0, 0, 0, 0, 0, 0, 0], \n",
        "                   [0, 0, 0, 0, 0, 0, 0, 0, 0], \n",
        "                   [0, 0, 0, 0, 0, 0, 0, 0, 0]])\n",
        "prediction = model.predict(inputs)\n",
        "print(prediction)\n"
      ],
      "metadata": {
        "colab": {
          "base_uri": "https://localhost:8080/"
        },
        "id": "555o-dkC2_-H",
        "outputId": "719801d6-4ce1-416e-a7e9-3efd1e4e319d"
      },
      "execution_count": 3,
      "outputs": [
        {
          "output_type": "stream",
          "name": "stdout",
          "text": [
            "Epoch 1/10\n",
            "1/1 [==============================] - 1s 525ms/step - loss: 0.6916 - accuracy: 0.7778\n",
            "Epoch 2/10\n",
            "1/1 [==============================] - 0s 10ms/step - loss: 0.6907 - accuracy: 0.7778\n",
            "Epoch 3/10\n",
            "1/1 [==============================] - 0s 9ms/step - loss: 0.6891 - accuracy: 0.7778\n",
            "Epoch 4/10\n",
            "1/1 [==============================] - 0s 9ms/step - loss: 0.6877 - accuracy: 0.7778\n",
            "Epoch 5/10\n",
            "1/1 [==============================] - 0s 8ms/step - loss: 0.6865 - accuracy: 0.7778\n",
            "Epoch 6/10\n",
            "1/1 [==============================] - 0s 7ms/step - loss: 0.6852 - accuracy: 0.7778\n",
            "Epoch 7/10\n",
            "1/1 [==============================] - 0s 8ms/step - loss: 0.6839 - accuracy: 0.7778\n",
            "Epoch 8/10\n",
            "1/1 [==============================] - 0s 8ms/step - loss: 0.6826 - accuracy: 0.7778\n",
            "Epoch 9/10\n",
            "1/1 [==============================] - 0s 8ms/step - loss: 0.6814 - accuracy: 0.7778\n",
            "Epoch 10/10\n",
            "1/1 [==============================] - 0s 7ms/step - loss: 0.6801 - accuracy: 0.7778\n",
            "1/1 [==============================] - 0s 65ms/step\n",
            "[[0.49483094]\n",
            " [0.49483094]\n",
            " [0.49483094]\n",
            " [0.49483094]\n",
            " [0.49483094]\n",
            " [0.49483094]\n",
            " [0.49483094]\n",
            " [0.49483094]\n",
            " [0.49483094]]\n"
          ]
        }
      ]
    }
  ]
}